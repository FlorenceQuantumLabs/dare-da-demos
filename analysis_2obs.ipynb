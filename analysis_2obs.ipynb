{
 "cells": [
  {
   "cell_type": "markdown",
   "metadata": {},
   "source": [
    "## Dependencies\n",
    "\n",
    " * Python 3.9 (might work with earlier versions too)\n",
    " * scipy\n",
    " * matplotlib"
   ]
  },
  {
   "cell_type": "code",
   "execution_count": 121,
   "metadata": {},
   "outputs": [],
   "source": [
    "# import libraries\n",
    "import math\n",
    "import numpy as np\n",
    "from scipy import interpolate\n",
    "import matplotlib as mpl\n",
    "import matplotlib.pyplot as plt\n",
    "\n",
    "%matplotlib inline"
   ]
  },
  {
   "cell_type": "code",
   "execution_count": 122,
   "metadata": {},
   "outputs": [],
   "source": [
    "# function to compute correlation between two points x1, x1 according to \n",
    "# their separation\n",
    "#\n",
    "# if x1 and x2 are vectors of length m and n then c will be a (mxn) \n",
    "# correlation matrix.\n",
    "#\n",
    "# uses a SOAR correlation function with length scale L (L = 0 =>\n",
    "# uncorrelated)\n",
    "#\n",
    "#   rho = [1 + (dx/L)]*exp(-dx/L); dx = |x1-x2|\n",
    "\n",
    "def soar2(x1, x2, L):\n",
    "    # x1 and x2 must be arrays, even if of length 1\n",
    "    dim1 = len(x1)\n",
    "    dim2 = len(x2)\n",
    "\n",
    "    c = np.zeros((dim1, dim2))\n",
    "\n",
    "    for i, xi in enumerate(x1):\n",
    "        for j, xj in enumerate(x2):\n",
    "            d = abs(xi - xj)\n",
    "            if d == 0:\n",
    "                c[i, j] = 1.0\n",
    "            elif L > 0.0:\n",
    "                c[i, j] = (1.0 + d/L) * math.exp(-d/L)\n",
    "            else:\n",
    "                c[i, j] = 0.0\n",
    "    \n",
    "    return c"
   ]
  },
  {
   "cell_type": "code",
   "execution_count": 123,
   "metadata": {},
   "outputs": [],
   "source": [
    "# set x values at which equations are solved\n",
    "x0 = 0.\n",
    "xn = 10.\n",
    "nx = 100 # will have nx+1 points\n",
    "x = np.linspace(x0, xn, nx + 1)"
   ]
  },
  {
   "cell_type": "code",
   "execution_count": 124,
   "metadata": {},
   "outputs": [],
   "source": [
    "# initialise analysis vectors\n",
    "xdim = len(x)\n",
    "a  = np.zeros(np.shape(x)) # analysis for 2 obs case\n",
    "a1 = np.zeros(np.shape(x)) # analysis for o1 only case\n",
    "a2 = np.zeros(np.shape(x)) # analysis for o2 only case\n",
    "\n",
    "fb = 0.5 + 0.1 * np.sin(2 * math.pi * x/xn)\n",
    "#print(fb)\n",
    "#fb = np.zeros(np.shape(x)) # background"
   ]
  },
  {
   "cell_type": "code",
   "execution_count": 125,
   "metadata": {},
   "outputs": [],
   "source": [
    "# default observation values and locations\n",
    "x1 = 2.0; o1 = 1.0\n",
    "x2 = 7.5; o2 = -1.0"
   ]
  },
  {
   "cell_type": "code",
   "execution_count": 126,
   "metadata": {},
   "outputs": [],
   "source": [
    "# default covariances and correlation lengths\n",
    "# forecast (background)\n",
    "sigf = 1.0 # background error standard deviation\n",
    "Lf   = 2.0 # correlation length scale\n",
    "# observations\n",
    "sigo = 1.0 # observation error standard deviation\n",
    "Lo   = 1.0 # correlation length scale"
   ]
  },
  {
   "cell_type": "code",
   "execution_count": 127,
   "metadata": {},
   "outputs": [],
   "source": [
    "# get value of background field at observation locations, Hxb\n",
    "\n",
    "# Create a function that estimates the background at any point\n",
    "# by interpolating linearly between the given background points\n",
    "Hfb = interpolate.interp1d(x, fb, 'linear')\n",
    "\n",
    "# Compute y-Hxb at each obs location\n",
    "d1 = o1 - Hfb(x1)\n",
    "d2 = o2 - Hfb(x2)"
   ]
  },
  {
   "cell_type": "code",
   "execution_count": 128,
   "metadata": {},
   "outputs": [],
   "source": [
    "# Compute weighted correlation for each obs\n",
    "cf12 = soar2([x1], [x2], Lf)[0, 0] # background\n",
    "co12 = soar2([x1], [x2], Lo)[0, 0] # observations\n",
    "\n",
    "C = sigf*sigf*cf12 + sigo*sigo*co12 # var_b*rho(x1,x2) + var_o*rho(x1,x2)\n",
    "\n",
    "C = C/(sigf*sigf+sigo*sigo)         # [var_b*rho(x1,x2) + var_o*rho(x1,x2)]/[var_b+var_o]\n",
    "\n",
    "W = (sigf*sigf+sigo*sigo)*(1.-C*C)\n",
    "\n",
    "W = sigf*sigf/W \n",
    "\n",
    "# weight for a single ob:  var_b/(var_b+var_o)\n",
    "W1 = sigf*sigf/(sigf*sigf+sigo*sigo)"
   ]
  },
  {
   "cell_type": "code",
   "execution_count": 129,
   "metadata": {},
   "outputs": [],
   "source": [
    "# OI analysis\n",
    "\n",
    "cf1 = soar2([x1], x, Lf)[0] # rho(x,x1), (xdim x 1) vector\n",
    "cf2 = soar2([x2], x, Lf)[0] # rho(x,x2), (xdim x 1) vector\n",
    "  \n",
    "z = cf1*(d1-C*d2)+cf2*(d2-C*d1)\n",
    "\n",
    "a  = fb + W*z        # analysis for 2 obs case\n",
    "a1 = fb + cf1*W1*d1  # analysis for o1 only\n",
    "a2 = fb + cf2*W1*d2  # analysis for o2 only"
   ]
  },
  {
   "cell_type": "code",
   "execution_count": 130,
   "metadata": {},
   "outputs": [
    {
     "data": {
      "image/png": "[encoded data removed]",
      "text/plain": [
       "<Figure size 432x288 with 1 Axes>"
      ]
     },
     "metadata": {
      "needs_background": "light"
     },
     "output_type": "display_data"
    }
   ],
   "source": [
    "# Plot the data\n",
    "fig = plt.figure()\n",
    "plt.plot([x1, x2], [o1, o2], 'kx') # observation locations\n",
    "plt.plot(x, a, 'r--')              # analysis in red dashed line\n",
    "plt.plot(x, a1, 'b:')              # analysis with o1 only in blue dotted line\n",
    "plt.plot(x, a2, 'b-')              # analysis with o2 only in blue dashed line\n",
    "plt.plot(x, fb, 'k')               # background in black solid line\n",
    "plt.show()"
   ]
  }
 ],
 "metadata": {
  "interpreter": {
   "hash": "d6b175fe003b3122cfee7025d92c0d2f77f64aa5e6a097d69c4c2fdff2c19a2d"
  },
  "kernelspec": {
   "display_name": "Python 3.9.7 64-bit ('dare-oi-demo': conda)",
   "name": "python3"
  },
  "language_info": {
   "codemirror_mode": {
    "name": "ipython",
    "version": 3
   },
   "file_extension": ".py",
   "mimetype": "text/x-python",
   "name": "python",
   "nbconvert_exporter": "python",
   "pygments_lexer": "ipython3",
   "version": "3.9.7"
  },
  "orig_nbformat": 4
 },
 "nbformat": 4,
 "nbformat_minor": 2
}
